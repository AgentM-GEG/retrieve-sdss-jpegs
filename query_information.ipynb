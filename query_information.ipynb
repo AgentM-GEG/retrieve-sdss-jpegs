{
 "cells": [
  {
   "cell_type": "code",
   "execution_count": 1,
   "id": "piano-hindu",
   "metadata": {},
   "outputs": [
    {
     "name": "stderr",
     "output_type": "stream",
     "text": [
      "/home/fortson/manth145/.conda/envs/tf_latest/lib/python3.9/site-packages/skimage/io/manage_plugins.py:23: UserWarning: Your installed pillow version is < 8.1.2. Several security issues (CVE-2021-27921, CVE-2021-25290, CVE-2021-25291, CVE-2021-25293, and more) have been fixed in pillow 8.1.2 or higher. We recommend to upgrade this library.\n",
      "  from .collection import imread_collection_wrapper\n"
     ]
    }
   ],
   "source": [
    "# Import the necessary modules\n",
    "import SciServer\n",
    "from SciServer import SkyServer\n",
    "import matplotlib.pyplot as plt\n",
    "from astropy.io import ascii, fits\n",
    "from astropy.table import Table\n",
    "import numpy as np"
   ]
  },
  {
   "cell_type": "code",
   "execution_count": 2,
   "id": "blind-implementation",
   "metadata": {},
   "outputs": [],
   "source": [
    "data_file = fits.getdata('/home/fortson/manth145/data/Misc/LEAM/LEAM_sample.fits')"
   ]
  },
  {
   "cell_type": "code",
   "execution_count": 3,
   "id": "protecting-mexican",
   "metadata": {},
   "outputs": [],
   "source": [
    "queried_table = Table(names=['ID', 'RA', 'DEC', 'ObjID', 'SpecObjID', 'logM', 'Z', 'Age', 'sSFR', 'halpha_flux'],\n",
    "                     dtype=['str', 'float', 'float', 'int', 'int', 'float', 'float','float', 'float', 'float'])"
   ]
  },
  {
   "cell_type": "code",
   "execution_count": 5,
   "id": "signal-enforcement",
   "metadata": {},
   "outputs": [
    {
     "data": {
      "text/plain": [
       "82"
      ]
     },
     "execution_count": 5,
     "metadata": {},
     "output_type": "execute_result"
    }
   ],
   "source": [
    "len(data_file)"
   ]
  },
  {
   "cell_type": "code",
   "execution_count": 4,
   "id": "acquired-protection",
   "metadata": {},
   "outputs": [
    {
     "name": "stderr",
     "output_type": "stream",
     "text": [
      "/home/fortson/manth145/.conda/envs/tf_latest/lib/python3.9/site-packages/SciServer-2.1.0-py3.9.egg/SciServer/SkyServer.py:331: Warning: In Authentication.getToken: Authentication token is not defined: the user did not log in with the Authentication.login function, or the token has not been stored in the command line argument --ident.\n",
      "/home/fortson/manth145/.conda/envs/tf_latest/lib/python3.9/site-packages/SciServer-2.1.0-py3.9.egg/SciServer/SkyServer.py:47: Warning: In Authentication.getToken: Authentication token is not defined: the user did not log in with the Authentication.login function, or the token has not been stored in the command line argument --ident.\n",
      "/home/fortson/manth145/.conda/envs/tf_latest/lib/python3.9/site-packages/SciServer-2.1.0-py3.9.egg/SciServer/SkyServer.py:47: Warning: In Authentication.getToken: Authentication token is not defined: the user did not log in with the Authentication.login function, or the token has not been stored in the command line argument --ident.\n",
      "/home/fortson/manth145/.conda/envs/tf_latest/lib/python3.9/site-packages/SciServer-2.1.0-py3.9.egg/SciServer/SkyServer.py:331: Warning: In Authentication.getToken: Authentication token is not defined: the user did not log in with the Authentication.login function, or the token has not been stored in the command line argument --ident.\n",
      "/home/fortson/manth145/.conda/envs/tf_latest/lib/python3.9/site-packages/SciServer-2.1.0-py3.9.egg/SciServer/SkyServer.py:47: Warning: In Authentication.getToken: Authentication token is not defined: the user did not log in with the Authentication.login function, or the token has not been stored in the command line argument --ident.\n",
      "/home/fortson/manth145/.conda/envs/tf_latest/lib/python3.9/site-packages/SciServer-2.1.0-py3.9.egg/SciServer/SkyServer.py:47: Warning: In Authentication.getToken: Authentication token is not defined: the user did not log in with the Authentication.login function, or the token has not been stored in the command line argument --ident.\n",
      "/home/fortson/manth145/.conda/envs/tf_latest/lib/python3.9/site-packages/SciServer-2.1.0-py3.9.egg/SciServer/SkyServer.py:331: Warning: In Authentication.getToken: Authentication token is not defined: the user did not log in with the Authentication.login function, or the token has not been stored in the command line argument --ident.\n",
      "/home/fortson/manth145/.conda/envs/tf_latest/lib/python3.9/site-packages/SciServer-2.1.0-py3.9.egg/SciServer/SkyServer.py:47: Warning: In Authentication.getToken: Authentication token is not defined: the user did not log in with the Authentication.login function, or the token has not been stored in the command line argument --ident.\n",
      "/home/fortson/manth145/.conda/envs/tf_latest/lib/python3.9/site-packages/SciServer-2.1.0-py3.9.egg/SciServer/SkyServer.py:47: Warning: In Authentication.getToken: Authentication token is not defined: the user did not log in with the Authentication.login function, or the token has not been stored in the command line argument --ident.\n",
      "/home/fortson/manth145/.conda/envs/tf_latest/lib/python3.9/site-packages/SciServer-2.1.0-py3.9.egg/SciServer/SkyServer.py:331: Warning: In Authentication.getToken: Authentication token is not defined: the user did not log in with the Authentication.login function, or the token has not been stored in the command line argument --ident.\n",
      "/home/fortson/manth145/.conda/envs/tf_latest/lib/python3.9/site-packages/SciServer-2.1.0-py3.9.egg/SciServer/SkyServer.py:47: Warning: In Authentication.getToken: Authentication token is not defined: the user did not log in with the Authentication.login function, or the token has not been stored in the command line argument --ident.\n",
      "/home/fortson/manth145/.conda/envs/tf_latest/lib/python3.9/site-packages/SciServer-2.1.0-py3.9.egg/SciServer/SkyServer.py:47: Warning: In Authentication.getToken: Authentication token is not defined: the user did not log in with the Authentication.login function, or the token has not been stored in the command line argument --ident.\n",
      "/home/fortson/manth145/.conda/envs/tf_latest/lib/python3.9/site-packages/SciServer-2.1.0-py3.9.egg/SciServer/SkyServer.py:331: Warning: In Authentication.getToken: Authentication token is not defined: the user did not log in with the Authentication.login function, or the token has not been stored in the command line argument --ident.\n",
      "/home/fortson/manth145/.conda/envs/tf_latest/lib/python3.9/site-packages/SciServer-2.1.0-py3.9.egg/SciServer/SkyServer.py:47: Warning: In Authentication.getToken: Authentication token is not defined: the user did not log in with the Authentication.login function, or the token has not been stored in the command line argument --ident.\n",
      "/home/fortson/manth145/.conda/envs/tf_latest/lib/python3.9/site-packages/SciServer-2.1.0-py3.9.egg/SciServer/SkyServer.py:47: Warning: In Authentication.getToken: Authentication token is not defined: the user did not log in with the Authentication.login function, or the token has not been stored in the command line argument --ident.\n",
      "/home/fortson/manth145/.conda/envs/tf_latest/lib/python3.9/site-packages/SciServer-2.1.0-py3.9.egg/SciServer/SkyServer.py:331: Warning: In Authentication.getToken: Authentication token is not defined: the user did not log in with the Authentication.login function, or the token has not been stored in the command line argument --ident.\n",
      "/home/fortson/manth145/.conda/envs/tf_latest/lib/python3.9/site-packages/SciServer-2.1.0-py3.9.egg/SciServer/SkyServer.py:47: Warning: In Authentication.getToken: Authentication token is not defined: the user did not log in with the Authentication.login function, or the token has not been stored in the command line argument --ident.\n",
      "/home/fortson/manth145/.conda/envs/tf_latest/lib/python3.9/site-packages/SciServer-2.1.0-py3.9.egg/SciServer/SkyServer.py:47: Warning: In Authentication.getToken: Authentication token is not defined: the user did not log in with the Authentication.login function, or the token has not been stored in the command line argument --ident.\n",
      "/home/fortson/manth145/.conda/envs/tf_latest/lib/python3.9/site-packages/SciServer-2.1.0-py3.9.egg/SciServer/SkyServer.py:331: Warning: In Authentication.getToken: Authentication token is not defined: the user did not log in with the Authentication.login function, or the token has not been stored in the command line argument --ident.\n",
      "/home/fortson/manth145/.conda/envs/tf_latest/lib/python3.9/site-packages/SciServer-2.1.0-py3.9.egg/SciServer/SkyServer.py:47: Warning: In Authentication.getToken: Authentication token is not defined: the user did not log in with the Authentication.login function, or the token has not been stored in the command line argument --ident.\n",
      "/home/fortson/manth145/.conda/envs/tf_latest/lib/python3.9/site-packages/SciServer-2.1.0-py3.9.egg/SciServer/SkyServer.py:47: Warning: In Authentication.getToken: Authentication token is not defined: the user did not log in with the Authentication.login function, or the token has not been stored in the command line argument --ident.\n",
      "/home/fortson/manth145/.conda/envs/tf_latest/lib/python3.9/site-packages/SciServer-2.1.0-py3.9.egg/SciServer/SkyServer.py:331: Warning: In Authentication.getToken: Authentication token is not defined: the user did not log in with the Authentication.login function, or the token has not been stored in the command line argument --ident.\n",
      "/home/fortson/manth145/.conda/envs/tf_latest/lib/python3.9/site-packages/SciServer-2.1.0-py3.9.egg/SciServer/SkyServer.py:47: Warning: In Authentication.getToken: Authentication token is not defined: the user did not log in with the Authentication.login function, or the token has not been stored in the command line argument --ident.\n",
      "/home/fortson/manth145/.conda/envs/tf_latest/lib/python3.9/site-packages/SciServer-2.1.0-py3.9.egg/SciServer/SkyServer.py:47: Warning: In Authentication.getToken: Authentication token is not defined: the user did not log in with the Authentication.login function, or the token has not been stored in the command line argument --ident.\n",
      "/home/fortson/manth145/.conda/envs/tf_latest/lib/python3.9/site-packages/SciServer-2.1.0-py3.9.egg/SciServer/SkyServer.py:331: Warning: In Authentication.getToken: Authentication token is not defined: the user did not log in with the Authentication.login function, or the token has not been stored in the command line argument --ident.\n",
      "/home/fortson/manth145/.conda/envs/tf_latest/lib/python3.9/site-packages/SciServer-2.1.0-py3.9.egg/SciServer/SkyServer.py:47: Warning: In Authentication.getToken: Authentication token is not defined: the user did not log in with the Authentication.login function, or the token has not been stored in the command line argument --ident.\n",
      "/home/fortson/manth145/.conda/envs/tf_latest/lib/python3.9/site-packages/SciServer-2.1.0-py3.9.egg/SciServer/SkyServer.py:47: Warning: In Authentication.getToken: Authentication token is not defined: the user did not log in with the Authentication.login function, or the token has not been stored in the command line argument --ident.\n",
      "/home/fortson/manth145/.conda/envs/tf_latest/lib/python3.9/site-packages/SciServer-2.1.0-py3.9.egg/SciServer/SkyServer.py:331: Warning: In Authentication.getToken: Authentication token is not defined: the user did not log in with the Authentication.login function, or the token has not been stored in the command line argument --ident.\n",
      "/home/fortson/manth145/.conda/envs/tf_latest/lib/python3.9/site-packages/SciServer-2.1.0-py3.9.egg/SciServer/SkyServer.py:47: Warning: In Authentication.getToken: Authentication token is not defined: the user did not log in with the Authentication.login function, or the token has not been stored in the command line argument --ident.\n",
      "/home/fortson/manth145/.conda/envs/tf_latest/lib/python3.9/site-packages/SciServer-2.1.0-py3.9.egg/SciServer/SkyServer.py:47: Warning: In Authentication.getToken: Authentication token is not defined: the user did not log in with the Authentication.login function, or the token has not been stored in the command line argument --ident.\n",
      "/home/fortson/manth145/.conda/envs/tf_latest/lib/python3.9/site-packages/SciServer-2.1.0-py3.9.egg/SciServer/SkyServer.py:331: Warning: In Authentication.getToken: Authentication token is not defined: the user did not log in with the Authentication.login function, or the token has not been stored in the command line argument --ident.\n",
      "/home/fortson/manth145/.conda/envs/tf_latest/lib/python3.9/site-packages/SciServer-2.1.0-py3.9.egg/SciServer/SkyServer.py:47: Warning: In Authentication.getToken: Authentication token is not defined: the user did not log in with the Authentication.login function, or the token has not been stored in the command line argument --ident.\n",
      "/home/fortson/manth145/.conda/envs/tf_latest/lib/python3.9/site-packages/SciServer-2.1.0-py3.9.egg/SciServer/SkyServer.py:47: Warning: In Authentication.getToken: Authentication token is not defined: the user did not log in with the Authentication.login function, or the token has not been stored in the command line argument --ident.\n",
      "/home/fortson/manth145/.conda/envs/tf_latest/lib/python3.9/site-packages/SciServer-2.1.0-py3.9.egg/SciServer/SkyServer.py:331: Warning: In Authentication.getToken: Authentication token is not defined: the user did not log in with the Authentication.login function, or the token has not been stored in the command line argument --ident.\n",
      "/home/fortson/manth145/.conda/envs/tf_latest/lib/python3.9/site-packages/SciServer-2.1.0-py3.9.egg/SciServer/SkyServer.py:47: Warning: In Authentication.getToken: Authentication token is not defined: the user did not log in with the Authentication.login function, or the token has not been stored in the command line argument --ident.\n",
      "/home/fortson/manth145/.conda/envs/tf_latest/lib/python3.9/site-packages/SciServer-2.1.0-py3.9.egg/SciServer/SkyServer.py:47: Warning: In Authentication.getToken: Authentication token is not defined: the user did not log in with the Authentication.login function, or the token has not been stored in the command line argument --ident.\n",
      "/home/fortson/manth145/.conda/envs/tf_latest/lib/python3.9/site-packages/SciServer-2.1.0-py3.9.egg/SciServer/SkyServer.py:331: Warning: In Authentication.getToken: Authentication token is not defined: the user did not log in with the Authentication.login function, or the token has not been stored in the command line argument --ident.\n",
      "/home/fortson/manth145/.conda/envs/tf_latest/lib/python3.9/site-packages/SciServer-2.1.0-py3.9.egg/SciServer/SkyServer.py:47: Warning: In Authentication.getToken: Authentication token is not defined: the user did not log in with the Authentication.login function, or the token has not been stored in the command line argument --ident.\n",
      "/home/fortson/manth145/.conda/envs/tf_latest/lib/python3.9/site-packages/SciServer-2.1.0-py3.9.egg/SciServer/SkyServer.py:47: Warning: In Authentication.getToken: Authentication token is not defined: the user did not log in with the Authentication.login function, or the token has not been stored in the command line argument --ident.\n",
      "/home/fortson/manth145/.conda/envs/tf_latest/lib/python3.9/site-packages/SciServer-2.1.0-py3.9.egg/SciServer/SkyServer.py:331: Warning: In Authentication.getToken: Authentication token is not defined: the user did not log in with the Authentication.login function, or the token has not been stored in the command line argument --ident.\n",
      "/home/fortson/manth145/.conda/envs/tf_latest/lib/python3.9/site-packages/SciServer-2.1.0-py3.9.egg/SciServer/SkyServer.py:47: Warning: In Authentication.getToken: Authentication token is not defined: the user did not log in with the Authentication.login function, or the token has not been stored in the command line argument --ident.\n",
      "/home/fortson/manth145/.conda/envs/tf_latest/lib/python3.9/site-packages/SciServer-2.1.0-py3.9.egg/SciServer/SkyServer.py:47: Warning: In Authentication.getToken: Authentication token is not defined: the user did not log in with the Authentication.login function, or the token has not been stored in the command line argument --ident.\n",
      "/home/fortson/manth145/.conda/envs/tf_latest/lib/python3.9/site-packages/SciServer-2.1.0-py3.9.egg/SciServer/SkyServer.py:331: Warning: In Authentication.getToken: Authentication token is not defined: the user did not log in with the Authentication.login function, or the token has not been stored in the command line argument --ident.\n",
      "/home/fortson/manth145/.conda/envs/tf_latest/lib/python3.9/site-packages/SciServer-2.1.0-py3.9.egg/SciServer/SkyServer.py:47: Warning: In Authentication.getToken: Authentication token is not defined: the user did not log in with the Authentication.login function, or the token has not been stored in the command line argument --ident.\n",
      "/home/fortson/manth145/.conda/envs/tf_latest/lib/python3.9/site-packages/SciServer-2.1.0-py3.9.egg/SciServer/SkyServer.py:47: Warning: In Authentication.getToken: Authentication token is not defined: the user did not log in with the Authentication.login function, or the token has not been stored in the command line argument --ident.\n",
      "/home/fortson/manth145/.conda/envs/tf_latest/lib/python3.9/site-packages/SciServer-2.1.0-py3.9.egg/SciServer/SkyServer.py:331: Warning: In Authentication.getToken: Authentication token is not defined: the user did not log in with the Authentication.login function, or the token has not been stored in the command line argument --ident.\n",
      "/home/fortson/manth145/.conda/envs/tf_latest/lib/python3.9/site-packages/SciServer-2.1.0-py3.9.egg/SciServer/SkyServer.py:47: Warning: In Authentication.getToken: Authentication token is not defined: the user did not log in with the Authentication.login function, or the token has not been stored in the command line argument --ident.\n",
      "/home/fortson/manth145/.conda/envs/tf_latest/lib/python3.9/site-packages/SciServer-2.1.0-py3.9.egg/SciServer/SkyServer.py:47: Warning: In Authentication.getToken: Authentication token is not defined: the user did not log in with the Authentication.login function, or the token has not been stored in the command line argument --ident.\n",
      "/home/fortson/manth145/.conda/envs/tf_latest/lib/python3.9/site-packages/SciServer-2.1.0-py3.9.egg/SciServer/SkyServer.py:331: Warning: In Authentication.getToken: Authentication token is not defined: the user did not log in with the Authentication.login function, or the token has not been stored in the command line argument --ident.\n",
      "/home/fortson/manth145/.conda/envs/tf_latest/lib/python3.9/site-packages/SciServer-2.1.0-py3.9.egg/SciServer/SkyServer.py:47: Warning: In Authentication.getToken: Authentication token is not defined: the user did not log in with the Authentication.login function, or the token has not been stored in the command line argument --ident.\n",
      "/home/fortson/manth145/.conda/envs/tf_latest/lib/python3.9/site-packages/SciServer-2.1.0-py3.9.egg/SciServer/SkyServer.py:47: Warning: In Authentication.getToken: Authentication token is not defined: the user did not log in with the Authentication.login function, or the token has not been stored in the command line argument --ident.\n",
      "/home/fortson/manth145/.conda/envs/tf_latest/lib/python3.9/site-packages/SciServer-2.1.0-py3.9.egg/SciServer/SkyServer.py:331: Warning: In Authentication.getToken: Authentication token is not defined: the user did not log in with the Authentication.login function, or the token has not been stored in the command line argument --ident.\n",
      "/home/fortson/manth145/.conda/envs/tf_latest/lib/python3.9/site-packages/SciServer-2.1.0-py3.9.egg/SciServer/SkyServer.py:47: Warning: In Authentication.getToken: Authentication token is not defined: the user did not log in with the Authentication.login function, or the token has not been stored in the command line argument --ident.\n",
      "/home/fortson/manth145/.conda/envs/tf_latest/lib/python3.9/site-packages/SciServer-2.1.0-py3.9.egg/SciServer/SkyServer.py:47: Warning: In Authentication.getToken: Authentication token is not defined: the user did not log in with the Authentication.login function, or the token has not been stored in the command line argument --ident.\n",
      "/home/fortson/manth145/.conda/envs/tf_latest/lib/python3.9/site-packages/SciServer-2.1.0-py3.9.egg/SciServer/SkyServer.py:331: Warning: In Authentication.getToken: Authentication token is not defined: the user did not log in with the Authentication.login function, or the token has not been stored in the command line argument --ident.\n",
      "/home/fortson/manth145/.conda/envs/tf_latest/lib/python3.9/site-packages/SciServer-2.1.0-py3.9.egg/SciServer/SkyServer.py:47: Warning: In Authentication.getToken: Authentication token is not defined: the user did not log in with the Authentication.login function, or the token has not been stored in the command line argument --ident.\n",
      "/home/fortson/manth145/.conda/envs/tf_latest/lib/python3.9/site-packages/SciServer-2.1.0-py3.9.egg/SciServer/SkyServer.py:47: Warning: In Authentication.getToken: Authentication token is not defined: the user did not log in with the Authentication.login function, or the token has not been stored in the command line argument --ident.\n",
      "/home/fortson/manth145/.conda/envs/tf_latest/lib/python3.9/site-packages/SciServer-2.1.0-py3.9.egg/SciServer/SkyServer.py:331: Warning: In Authentication.getToken: Authentication token is not defined: the user did not log in with the Authentication.login function, or the token has not been stored in the command line argument --ident.\n",
      "/home/fortson/manth145/.conda/envs/tf_latest/lib/python3.9/site-packages/SciServer-2.1.0-py3.9.egg/SciServer/SkyServer.py:47: Warning: In Authentication.getToken: Authentication token is not defined: the user did not log in with the Authentication.login function, or the token has not been stored in the command line argument --ident.\n",
      "/home/fortson/manth145/.conda/envs/tf_latest/lib/python3.9/site-packages/SciServer-2.1.0-py3.9.egg/SciServer/SkyServer.py:47: Warning: In Authentication.getToken: Authentication token is not defined: the user did not log in with the Authentication.login function, or the token has not been stored in the command line argument --ident.\n",
      "/home/fortson/manth145/.conda/envs/tf_latest/lib/python3.9/site-packages/SciServer-2.1.0-py3.9.egg/SciServer/SkyServer.py:331: Warning: In Authentication.getToken: Authentication token is not defined: the user did not log in with the Authentication.login function, or the token has not been stored in the command line argument --ident.\n",
      "/home/fortson/manth145/.conda/envs/tf_latest/lib/python3.9/site-packages/SciServer-2.1.0-py3.9.egg/SciServer/SkyServer.py:47: Warning: In Authentication.getToken: Authentication token is not defined: the user did not log in with the Authentication.login function, or the token has not been stored in the command line argument --ident.\n",
      "/home/fortson/manth145/.conda/envs/tf_latest/lib/python3.9/site-packages/SciServer-2.1.0-py3.9.egg/SciServer/SkyServer.py:47: Warning: In Authentication.getToken: Authentication token is not defined: the user did not log in with the Authentication.login function, or the token has not been stored in the command line argument --ident.\n",
      "/home/fortson/manth145/.conda/envs/tf_latest/lib/python3.9/site-packages/SciServer-2.1.0-py3.9.egg/SciServer/SkyServer.py:331: Warning: In Authentication.getToken: Authentication token is not defined: the user did not log in with the Authentication.login function, or the token has not been stored in the command line argument --ident.\n",
      "/home/fortson/manth145/.conda/envs/tf_latest/lib/python3.9/site-packages/SciServer-2.1.0-py3.9.egg/SciServer/SkyServer.py:47: Warning: In Authentication.getToken: Authentication token is not defined: the user did not log in with the Authentication.login function, or the token has not been stored in the command line argument --ident.\n",
      "/home/fortson/manth145/.conda/envs/tf_latest/lib/python3.9/site-packages/SciServer-2.1.0-py3.9.egg/SciServer/SkyServer.py:47: Warning: In Authentication.getToken: Authentication token is not defined: the user did not log in with the Authentication.login function, or the token has not been stored in the command line argument --ident.\n",
      "/home/fortson/manth145/.conda/envs/tf_latest/lib/python3.9/site-packages/SciServer-2.1.0-py3.9.egg/SciServer/SkyServer.py:331: Warning: In Authentication.getToken: Authentication token is not defined: the user did not log in with the Authentication.login function, or the token has not been stored in the command line argument --ident.\n",
      "/home/fortson/manth145/.conda/envs/tf_latest/lib/python3.9/site-packages/SciServer-2.1.0-py3.9.egg/SciServer/SkyServer.py:47: Warning: In Authentication.getToken: Authentication token is not defined: the user did not log in with the Authentication.login function, or the token has not been stored in the command line argument --ident.\n",
      "/home/fortson/manth145/.conda/envs/tf_latest/lib/python3.9/site-packages/SciServer-2.1.0-py3.9.egg/SciServer/SkyServer.py:47: Warning: In Authentication.getToken: Authentication token is not defined: the user did not log in with the Authentication.login function, or the token has not been stored in the command line argument --ident.\n",
      "/home/fortson/manth145/.conda/envs/tf_latest/lib/python3.9/site-packages/SciServer-2.1.0-py3.9.egg/SciServer/SkyServer.py:331: Warning: In Authentication.getToken: Authentication token is not defined: the user did not log in with the Authentication.login function, or the token has not been stored in the command line argument --ident.\n",
      "/home/fortson/manth145/.conda/envs/tf_latest/lib/python3.9/site-packages/SciServer-2.1.0-py3.9.egg/SciServer/SkyServer.py:47: Warning: In Authentication.getToken: Authentication token is not defined: the user did not log in with the Authentication.login function, or the token has not been stored in the command line argument --ident.\n",
      "/home/fortson/manth145/.conda/envs/tf_latest/lib/python3.9/site-packages/SciServer-2.1.0-py3.9.egg/SciServer/SkyServer.py:47: Warning: In Authentication.getToken: Authentication token is not defined: the user did not log in with the Authentication.login function, or the token has not been stored in the command line argument --ident.\n",
      "/home/fortson/manth145/.conda/envs/tf_latest/lib/python3.9/site-packages/SciServer-2.1.0-py3.9.egg/SciServer/SkyServer.py:331: Warning: In Authentication.getToken: Authentication token is not defined: the user did not log in with the Authentication.login function, or the token has not been stored in the command line argument --ident.\n",
      "/home/fortson/manth145/.conda/envs/tf_latest/lib/python3.9/site-packages/SciServer-2.1.0-py3.9.egg/SciServer/SkyServer.py:47: Warning: In Authentication.getToken: Authentication token is not defined: the user did not log in with the Authentication.login function, or the token has not been stored in the command line argument --ident.\n",
      "/home/fortson/manth145/.conda/envs/tf_latest/lib/python3.9/site-packages/SciServer-2.1.0-py3.9.egg/SciServer/SkyServer.py:47: Warning: In Authentication.getToken: Authentication token is not defined: the user did not log in with the Authentication.login function, or the token has not been stored in the command line argument --ident.\n",
      "/home/fortson/manth145/.conda/envs/tf_latest/lib/python3.9/site-packages/SciServer-2.1.0-py3.9.egg/SciServer/SkyServer.py:331: Warning: In Authentication.getToken: Authentication token is not defined: the user did not log in with the Authentication.login function, or the token has not been stored in the command line argument --ident.\n",
      "/home/fortson/manth145/.conda/envs/tf_latest/lib/python3.9/site-packages/SciServer-2.1.0-py3.9.egg/SciServer/SkyServer.py:47: Warning: In Authentication.getToken: Authentication token is not defined: the user did not log in with the Authentication.login function, or the token has not been stored in the command line argument --ident.\n",
      "/home/fortson/manth145/.conda/envs/tf_latest/lib/python3.9/site-packages/SciServer-2.1.0-py3.9.egg/SciServer/SkyServer.py:47: Warning: In Authentication.getToken: Authentication token is not defined: the user did not log in with the Authentication.login function, or the token has not been stored in the command line argument --ident.\n",
      "/home/fortson/manth145/.conda/envs/tf_latest/lib/python3.9/site-packages/SciServer-2.1.0-py3.9.egg/SciServer/SkyServer.py:331: Warning: In Authentication.getToken: Authentication token is not defined: the user did not log in with the Authentication.login function, or the token has not been stored in the command line argument --ident.\n",
      "/home/fortson/manth145/.conda/envs/tf_latest/lib/python3.9/site-packages/SciServer-2.1.0-py3.9.egg/SciServer/SkyServer.py:47: Warning: In Authentication.getToken: Authentication token is not defined: the user did not log in with the Authentication.login function, or the token has not been stored in the command line argument --ident.\n",
      "/home/fortson/manth145/.conda/envs/tf_latest/lib/python3.9/site-packages/SciServer-2.1.0-py3.9.egg/SciServer/SkyServer.py:47: Warning: In Authentication.getToken: Authentication token is not defined: the user did not log in with the Authentication.login function, or the token has not been stored in the command line argument --ident.\n",
      "/home/fortson/manth145/.conda/envs/tf_latest/lib/python3.9/site-packages/SciServer-2.1.0-py3.9.egg/SciServer/SkyServer.py:331: Warning: In Authentication.getToken: Authentication token is not defined: the user did not log in with the Authentication.login function, or the token has not been stored in the command line argument --ident.\n",
      "/home/fortson/manth145/.conda/envs/tf_latest/lib/python3.9/site-packages/SciServer-2.1.0-py3.9.egg/SciServer/SkyServer.py:47: Warning: In Authentication.getToken: Authentication token is not defined: the user did not log in with the Authentication.login function, or the token has not been stored in the command line argument --ident.\n",
      "/home/fortson/manth145/.conda/envs/tf_latest/lib/python3.9/site-packages/SciServer-2.1.0-py3.9.egg/SciServer/SkyServer.py:47: Warning: In Authentication.getToken: Authentication token is not defined: the user did not log in with the Authentication.login function, or the token has not been stored in the command line argument --ident.\n",
      "/home/fortson/manth145/.conda/envs/tf_latest/lib/python3.9/site-packages/SciServer-2.1.0-py3.9.egg/SciServer/SkyServer.py:331: Warning: In Authentication.getToken: Authentication token is not defined: the user did not log in with the Authentication.login function, or the token has not been stored in the command line argument --ident.\n",
      "/home/fortson/manth145/.conda/envs/tf_latest/lib/python3.9/site-packages/SciServer-2.1.0-py3.9.egg/SciServer/SkyServer.py:47: Warning: In Authentication.getToken: Authentication token is not defined: the user did not log in with the Authentication.login function, or the token has not been stored in the command line argument --ident.\n",
      "/home/fortson/manth145/.conda/envs/tf_latest/lib/python3.9/site-packages/SciServer-2.1.0-py3.9.egg/SciServer/SkyServer.py:47: Warning: In Authentication.getToken: Authentication token is not defined: the user did not log in with the Authentication.login function, or the token has not been stored in the command line argument --ident.\n",
      "/home/fortson/manth145/.conda/envs/tf_latest/lib/python3.9/site-packages/SciServer-2.1.0-py3.9.egg/SciServer/SkyServer.py:331: Warning: In Authentication.getToken: Authentication token is not defined: the user did not log in with the Authentication.login function, or the token has not been stored in the command line argument --ident.\n",
      "/home/fortson/manth145/.conda/envs/tf_latest/lib/python3.9/site-packages/SciServer-2.1.0-py3.9.egg/SciServer/SkyServer.py:47: Warning: In Authentication.getToken: Authentication token is not defined: the user did not log in with the Authentication.login function, or the token has not been stored in the command line argument --ident.\n",
      "/home/fortson/manth145/.conda/envs/tf_latest/lib/python3.9/site-packages/SciServer-2.1.0-py3.9.egg/SciServer/SkyServer.py:47: Warning: In Authentication.getToken: Authentication token is not defined: the user did not log in with the Authentication.login function, or the token has not been stored in the command line argument --ident.\n",
      "/home/fortson/manth145/.conda/envs/tf_latest/lib/python3.9/site-packages/SciServer-2.1.0-py3.9.egg/SciServer/SkyServer.py:331: Warning: In Authentication.getToken: Authentication token is not defined: the user did not log in with the Authentication.login function, or the token has not been stored in the command line argument --ident.\n",
      "/home/fortson/manth145/.conda/envs/tf_latest/lib/python3.9/site-packages/SciServer-2.1.0-py3.9.egg/SciServer/SkyServer.py:47: Warning: In Authentication.getToken: Authentication token is not defined: the user did not log in with the Authentication.login function, or the token has not been stored in the command line argument --ident.\n",
      "/home/fortson/manth145/.conda/envs/tf_latest/lib/python3.9/site-packages/SciServer-2.1.0-py3.9.egg/SciServer/SkyServer.py:47: Warning: In Authentication.getToken: Authentication token is not defined: the user did not log in with the Authentication.login function, or the token has not been stored in the command line argument --ident.\n",
      "/home/fortson/manth145/.conda/envs/tf_latest/lib/python3.9/site-packages/SciServer-2.1.0-py3.9.egg/SciServer/SkyServer.py:331: Warning: In Authentication.getToken: Authentication token is not defined: the user did not log in with the Authentication.login function, or the token has not been stored in the command line argument --ident.\n",
      "/home/fortson/manth145/.conda/envs/tf_latest/lib/python3.9/site-packages/SciServer-2.1.0-py3.9.egg/SciServer/SkyServer.py:47: Warning: In Authentication.getToken: Authentication token is not defined: the user did not log in with the Authentication.login function, or the token has not been stored in the command line argument --ident.\n",
      "/home/fortson/manth145/.conda/envs/tf_latest/lib/python3.9/site-packages/SciServer-2.1.0-py3.9.egg/SciServer/SkyServer.py:47: Warning: In Authentication.getToken: Authentication token is not defined: the user did not log in with the Authentication.login function, or the token has not been stored in the command line argument --ident.\n",
      "/home/fortson/manth145/.conda/envs/tf_latest/lib/python3.9/site-packages/SciServer-2.1.0-py3.9.egg/SciServer/SkyServer.py:331: Warning: In Authentication.getToken: Authentication token is not defined: the user did not log in with the Authentication.login function, or the token has not been stored in the command line argument --ident.\n",
      "/home/fortson/manth145/.conda/envs/tf_latest/lib/python3.9/site-packages/SciServer-2.1.0-py3.9.egg/SciServer/SkyServer.py:47: Warning: In Authentication.getToken: Authentication token is not defined: the user did not log in with the Authentication.login function, or the token has not been stored in the command line argument --ident.\n",
      "/home/fortson/manth145/.conda/envs/tf_latest/lib/python3.9/site-packages/SciServer-2.1.0-py3.9.egg/SciServer/SkyServer.py:47: Warning: In Authentication.getToken: Authentication token is not defined: the user did not log in with the Authentication.login function, or the token has not been stored in the command line argument --ident.\n",
      "/home/fortson/manth145/.conda/envs/tf_latest/lib/python3.9/site-packages/SciServer-2.1.0-py3.9.egg/SciServer/SkyServer.py:331: Warning: In Authentication.getToken: Authentication token is not defined: the user did not log in with the Authentication.login function, or the token has not been stored in the command line argument --ident.\n",
      "/home/fortson/manth145/.conda/envs/tf_latest/lib/python3.9/site-packages/SciServer-2.1.0-py3.9.egg/SciServer/SkyServer.py:47: Warning: In Authentication.getToken: Authentication token is not defined: the user did not log in with the Authentication.login function, or the token has not been stored in the command line argument --ident.\n",
      "/home/fortson/manth145/.conda/envs/tf_latest/lib/python3.9/site-packages/SciServer-2.1.0-py3.9.egg/SciServer/SkyServer.py:47: Warning: In Authentication.getToken: Authentication token is not defined: the user did not log in with the Authentication.login function, or the token has not been stored in the command line argument --ident.\n",
      "/home/fortson/manth145/.conda/envs/tf_latest/lib/python3.9/site-packages/SciServer-2.1.0-py3.9.egg/SciServer/SkyServer.py:331: Warning: In Authentication.getToken: Authentication token is not defined: the user did not log in with the Authentication.login function, or the token has not been stored in the command line argument --ident.\n",
      "/home/fortson/manth145/.conda/envs/tf_latest/lib/python3.9/site-packages/SciServer-2.1.0-py3.9.egg/SciServer/SkyServer.py:47: Warning: In Authentication.getToken: Authentication token is not defined: the user did not log in with the Authentication.login function, or the token has not been stored in the command line argument --ident.\n",
      "/home/fortson/manth145/.conda/envs/tf_latest/lib/python3.9/site-packages/SciServer-2.1.0-py3.9.egg/SciServer/SkyServer.py:47: Warning: In Authentication.getToken: Authentication token is not defined: the user did not log in with the Authentication.login function, or the token has not been stored in the command line argument --ident.\n",
      "/home/fortson/manth145/.conda/envs/tf_latest/lib/python3.9/site-packages/SciServer-2.1.0-py3.9.egg/SciServer/SkyServer.py:331: Warning: In Authentication.getToken: Authentication token is not defined: the user did not log in with the Authentication.login function, or the token has not been stored in the command line argument --ident.\n",
      "/home/fortson/manth145/.conda/envs/tf_latest/lib/python3.9/site-packages/SciServer-2.1.0-py3.9.egg/SciServer/SkyServer.py:47: Warning: In Authentication.getToken: Authentication token is not defined: the user did not log in with the Authentication.login function, or the token has not been stored in the command line argument --ident.\n",
      "/home/fortson/manth145/.conda/envs/tf_latest/lib/python3.9/site-packages/SciServer-2.1.0-py3.9.egg/SciServer/SkyServer.py:47: Warning: In Authentication.getToken: Authentication token is not defined: the user did not log in with the Authentication.login function, or the token has not been stored in the command line argument --ident.\n",
      "/home/fortson/manth145/.conda/envs/tf_latest/lib/python3.9/site-packages/SciServer-2.1.0-py3.9.egg/SciServer/SkyServer.py:331: Warning: In Authentication.getToken: Authentication token is not defined: the user did not log in with the Authentication.login function, or the token has not been stored in the command line argument --ident.\n",
      "/home/fortson/manth145/.conda/envs/tf_latest/lib/python3.9/site-packages/SciServer-2.1.0-py3.9.egg/SciServer/SkyServer.py:47: Warning: In Authentication.getToken: Authentication token is not defined: the user did not log in with the Authentication.login function, or the token has not been stored in the command line argument --ident.\n",
      "/home/fortson/manth145/.conda/envs/tf_latest/lib/python3.9/site-packages/SciServer-2.1.0-py3.9.egg/SciServer/SkyServer.py:47: Warning: In Authentication.getToken: Authentication token is not defined: the user did not log in with the Authentication.login function, or the token has not been stored in the command line argument --ident.\n",
      "/home/fortson/manth145/.conda/envs/tf_latest/lib/python3.9/site-packages/SciServer-2.1.0-py3.9.egg/SciServer/SkyServer.py:331: Warning: In Authentication.getToken: Authentication token is not defined: the user did not log in with the Authentication.login function, or the token has not been stored in the command line argument --ident.\n",
      "/home/fortson/manth145/.conda/envs/tf_latest/lib/python3.9/site-packages/SciServer-2.1.0-py3.9.egg/SciServer/SkyServer.py:47: Warning: In Authentication.getToken: Authentication token is not defined: the user did not log in with the Authentication.login function, or the token has not been stored in the command line argument --ident.\n",
      "/home/fortson/manth145/.conda/envs/tf_latest/lib/python3.9/site-packages/SciServer-2.1.0-py3.9.egg/SciServer/SkyServer.py:47: Warning: In Authentication.getToken: Authentication token is not defined: the user did not log in with the Authentication.login function, or the token has not been stored in the command line argument --ident.\n",
      "/home/fortson/manth145/.conda/envs/tf_latest/lib/python3.9/site-packages/SciServer-2.1.0-py3.9.egg/SciServer/SkyServer.py:331: Warning: In Authentication.getToken: Authentication token is not defined: the user did not log in with the Authentication.login function, or the token has not been stored in the command line argument --ident.\n",
      "/home/fortson/manth145/.conda/envs/tf_latest/lib/python3.9/site-packages/SciServer-2.1.0-py3.9.egg/SciServer/SkyServer.py:47: Warning: In Authentication.getToken: Authentication token is not defined: the user did not log in with the Authentication.login function, or the token has not been stored in the command line argument --ident.\n",
      "/home/fortson/manth145/.conda/envs/tf_latest/lib/python3.9/site-packages/SciServer-2.1.0-py3.9.egg/SciServer/SkyServer.py:47: Warning: In Authentication.getToken: Authentication token is not defined: the user did not log in with the Authentication.login function, or the token has not been stored in the command line argument --ident.\n",
      "/home/fortson/manth145/.conda/envs/tf_latest/lib/python3.9/site-packages/SciServer-2.1.0-py3.9.egg/SciServer/SkyServer.py:331: Warning: In Authentication.getToken: Authentication token is not defined: the user did not log in with the Authentication.login function, or the token has not been stored in the command line argument --ident.\n",
      "/home/fortson/manth145/.conda/envs/tf_latest/lib/python3.9/site-packages/SciServer-2.1.0-py3.9.egg/SciServer/SkyServer.py:47: Warning: In Authentication.getToken: Authentication token is not defined: the user did not log in with the Authentication.login function, or the token has not been stored in the command line argument --ident.\n",
      "/home/fortson/manth145/.conda/envs/tf_latest/lib/python3.9/site-packages/SciServer-2.1.0-py3.9.egg/SciServer/SkyServer.py:47: Warning: In Authentication.getToken: Authentication token is not defined: the user did not log in with the Authentication.login function, or the token has not been stored in the command line argument --ident.\n",
      "/home/fortson/manth145/.conda/envs/tf_latest/lib/python3.9/site-packages/SciServer-2.1.0-py3.9.egg/SciServer/SkyServer.py:331: Warning: In Authentication.getToken: Authentication token is not defined: the user did not log in with the Authentication.login function, or the token has not been stored in the command line argument --ident.\n",
      "/home/fortson/manth145/.conda/envs/tf_latest/lib/python3.9/site-packages/SciServer-2.1.0-py3.9.egg/SciServer/SkyServer.py:47: Warning: In Authentication.getToken: Authentication token is not defined: the user did not log in with the Authentication.login function, or the token has not been stored in the command line argument --ident.\n",
      "/home/fortson/manth145/.conda/envs/tf_latest/lib/python3.9/site-packages/SciServer-2.1.0-py3.9.egg/SciServer/SkyServer.py:47: Warning: In Authentication.getToken: Authentication token is not defined: the user did not log in with the Authentication.login function, or the token has not been stored in the command line argument --ident.\n",
      "/home/fortson/manth145/.conda/envs/tf_latest/lib/python3.9/site-packages/SciServer-2.1.0-py3.9.egg/SciServer/SkyServer.py:331: Warning: In Authentication.getToken: Authentication token is not defined: the user did not log in with the Authentication.login function, or the token has not been stored in the command line argument --ident.\n",
      "/home/fortson/manth145/.conda/envs/tf_latest/lib/python3.9/site-packages/SciServer-2.1.0-py3.9.egg/SciServer/SkyServer.py:47: Warning: In Authentication.getToken: Authentication token is not defined: the user did not log in with the Authentication.login function, or the token has not been stored in the command line argument --ident.\n",
      "/home/fortson/manth145/.conda/envs/tf_latest/lib/python3.9/site-packages/SciServer-2.1.0-py3.9.egg/SciServer/SkyServer.py:47: Warning: In Authentication.getToken: Authentication token is not defined: the user did not log in with the Authentication.login function, or the token has not been stored in the command line argument --ident.\n",
      "/home/fortson/manth145/.conda/envs/tf_latest/lib/python3.9/site-packages/SciServer-2.1.0-py3.9.egg/SciServer/SkyServer.py:331: Warning: In Authentication.getToken: Authentication token is not defined: the user did not log in with the Authentication.login function, or the token has not been stored in the command line argument --ident.\n",
      "/home/fortson/manth145/.conda/envs/tf_latest/lib/python3.9/site-packages/SciServer-2.1.0-py3.9.egg/SciServer/SkyServer.py:47: Warning: In Authentication.getToken: Authentication token is not defined: the user did not log in with the Authentication.login function, or the token has not been stored in the command line argument --ident.\n",
      "/home/fortson/manth145/.conda/envs/tf_latest/lib/python3.9/site-packages/SciServer-2.1.0-py3.9.egg/SciServer/SkyServer.py:47: Warning: In Authentication.getToken: Authentication token is not defined: the user did not log in with the Authentication.login function, or the token has not been stored in the command line argument --ident.\n",
      "/home/fortson/manth145/.conda/envs/tf_latest/lib/python3.9/site-packages/SciServer-2.1.0-py3.9.egg/SciServer/SkyServer.py:331: Warning: In Authentication.getToken: Authentication token is not defined: the user did not log in with the Authentication.login function, or the token has not been stored in the command line argument --ident.\n",
      "/home/fortson/manth145/.conda/envs/tf_latest/lib/python3.9/site-packages/SciServer-2.1.0-py3.9.egg/SciServer/SkyServer.py:47: Warning: In Authentication.getToken: Authentication token is not defined: the user did not log in with the Authentication.login function, or the token has not been stored in the command line argument --ident.\n",
      "/home/fortson/manth145/.conda/envs/tf_latest/lib/python3.9/site-packages/SciServer-2.1.0-py3.9.egg/SciServer/SkyServer.py:47: Warning: In Authentication.getToken: Authentication token is not defined: the user did not log in with the Authentication.login function, or the token has not been stored in the command line argument --ident.\n",
      "/home/fortson/manth145/.conda/envs/tf_latest/lib/python3.9/site-packages/SciServer-2.1.0-py3.9.egg/SciServer/SkyServer.py:331: Warning: In Authentication.getToken: Authentication token is not defined: the user did not log in with the Authentication.login function, or the token has not been stored in the command line argument --ident.\n",
      "/home/fortson/manth145/.conda/envs/tf_latest/lib/python3.9/site-packages/SciServer-2.1.0-py3.9.egg/SciServer/SkyServer.py:47: Warning: In Authentication.getToken: Authentication token is not defined: the user did not log in with the Authentication.login function, or the token has not been stored in the command line argument --ident.\n",
      "/home/fortson/manth145/.conda/envs/tf_latest/lib/python3.9/site-packages/SciServer-2.1.0-py3.9.egg/SciServer/SkyServer.py:47: Warning: In Authentication.getToken: Authentication token is not defined: the user did not log in with the Authentication.login function, or the token has not been stored in the command line argument --ident.\n",
      "/home/fortson/manth145/.conda/envs/tf_latest/lib/python3.9/site-packages/SciServer-2.1.0-py3.9.egg/SciServer/SkyServer.py:331: Warning: In Authentication.getToken: Authentication token is not defined: the user did not log in with the Authentication.login function, or the token has not been stored in the command line argument --ident.\n",
      "/home/fortson/manth145/.conda/envs/tf_latest/lib/python3.9/site-packages/SciServer-2.1.0-py3.9.egg/SciServer/SkyServer.py:47: Warning: In Authentication.getToken: Authentication token is not defined: the user did not log in with the Authentication.login function, or the token has not been stored in the command line argument --ident.\n",
      "/home/fortson/manth145/.conda/envs/tf_latest/lib/python3.9/site-packages/SciServer-2.1.0-py3.9.egg/SciServer/SkyServer.py:47: Warning: In Authentication.getToken: Authentication token is not defined: the user did not log in with the Authentication.login function, or the token has not been stored in the command line argument --ident.\n",
      "/home/fortson/manth145/.conda/envs/tf_latest/lib/python3.9/site-packages/SciServer-2.1.0-py3.9.egg/SciServer/SkyServer.py:331: Warning: In Authentication.getToken: Authentication token is not defined: the user did not log in with the Authentication.login function, or the token has not been stored in the command line argument --ident.\n",
      "/home/fortson/manth145/.conda/envs/tf_latest/lib/python3.9/site-packages/SciServer-2.1.0-py3.9.egg/SciServer/SkyServer.py:47: Warning: In Authentication.getToken: Authentication token is not defined: the user did not log in with the Authentication.login function, or the token has not been stored in the command line argument --ident.\n",
      "/home/fortson/manth145/.conda/envs/tf_latest/lib/python3.9/site-packages/SciServer-2.1.0-py3.9.egg/SciServer/SkyServer.py:47: Warning: In Authentication.getToken: Authentication token is not defined: the user did not log in with the Authentication.login function, or the token has not been stored in the command line argument --ident.\n",
      "/home/fortson/manth145/.conda/envs/tf_latest/lib/python3.9/site-packages/SciServer-2.1.0-py3.9.egg/SciServer/SkyServer.py:331: Warning: In Authentication.getToken: Authentication token is not defined: the user did not log in with the Authentication.login function, or the token has not been stored in the command line argument --ident.\n",
      "/home/fortson/manth145/.conda/envs/tf_latest/lib/python3.9/site-packages/SciServer-2.1.0-py3.9.egg/SciServer/SkyServer.py:47: Warning: In Authentication.getToken: Authentication token is not defined: the user did not log in with the Authentication.login function, or the token has not been stored in the command line argument --ident.\n",
      "/home/fortson/manth145/.conda/envs/tf_latest/lib/python3.9/site-packages/SciServer-2.1.0-py3.9.egg/SciServer/SkyServer.py:47: Warning: In Authentication.getToken: Authentication token is not defined: the user did not log in with the Authentication.login function, or the token has not been stored in the command line argument --ident.\n",
      "/home/fortson/manth145/.conda/envs/tf_latest/lib/python3.9/site-packages/SciServer-2.1.0-py3.9.egg/SciServer/SkyServer.py:331: Warning: In Authentication.getToken: Authentication token is not defined: the user did not log in with the Authentication.login function, or the token has not been stored in the command line argument --ident.\n",
      "/home/fortson/manth145/.conda/envs/tf_latest/lib/python3.9/site-packages/SciServer-2.1.0-py3.9.egg/SciServer/SkyServer.py:47: Warning: In Authentication.getToken: Authentication token is not defined: the user did not log in with the Authentication.login function, or the token has not been stored in the command line argument --ident.\n",
      "/home/fortson/manth145/.conda/envs/tf_latest/lib/python3.9/site-packages/SciServer-2.1.0-py3.9.egg/SciServer/SkyServer.py:47: Warning: In Authentication.getToken: Authentication token is not defined: the user did not log in with the Authentication.login function, or the token has not been stored in the command line argument --ident.\n",
      "/home/fortson/manth145/.conda/envs/tf_latest/lib/python3.9/site-packages/SciServer-2.1.0-py3.9.egg/SciServer/SkyServer.py:331: Warning: In Authentication.getToken: Authentication token is not defined: the user did not log in with the Authentication.login function, or the token has not been stored in the command line argument --ident.\n",
      "/home/fortson/manth145/.conda/envs/tf_latest/lib/python3.9/site-packages/SciServer-2.1.0-py3.9.egg/SciServer/SkyServer.py:47: Warning: In Authentication.getToken: Authentication token is not defined: the user did not log in with the Authentication.login function, or the token has not been stored in the command line argument --ident.\n",
      "/home/fortson/manth145/.conda/envs/tf_latest/lib/python3.9/site-packages/SciServer-2.1.0-py3.9.egg/SciServer/SkyServer.py:47: Warning: In Authentication.getToken: Authentication token is not defined: the user did not log in with the Authentication.login function, or the token has not been stored in the command line argument --ident.\n",
      "/home/fortson/manth145/.conda/envs/tf_latest/lib/python3.9/site-packages/SciServer-2.1.0-py3.9.egg/SciServer/SkyServer.py:331: Warning: In Authentication.getToken: Authentication token is not defined: the user did not log in with the Authentication.login function, or the token has not been stored in the command line argument --ident.\n",
      "/home/fortson/manth145/.conda/envs/tf_latest/lib/python3.9/site-packages/SciServer-2.1.0-py3.9.egg/SciServer/SkyServer.py:47: Warning: In Authentication.getToken: Authentication token is not defined: the user did not log in with the Authentication.login function, or the token has not been stored in the command line argument --ident.\n",
      "/home/fortson/manth145/.conda/envs/tf_latest/lib/python3.9/site-packages/SciServer-2.1.0-py3.9.egg/SciServer/SkyServer.py:47: Warning: In Authentication.getToken: Authentication token is not defined: the user did not log in with the Authentication.login function, or the token has not been stored in the command line argument --ident.\n",
      "/home/fortson/manth145/.conda/envs/tf_latest/lib/python3.9/site-packages/SciServer-2.1.0-py3.9.egg/SciServer/SkyServer.py:331: Warning: In Authentication.getToken: Authentication token is not defined: the user did not log in with the Authentication.login function, or the token has not been stored in the command line argument --ident.\n",
      "/home/fortson/manth145/.conda/envs/tf_latest/lib/python3.9/site-packages/SciServer-2.1.0-py3.9.egg/SciServer/SkyServer.py:47: Warning: In Authentication.getToken: Authentication token is not defined: the user did not log in with the Authentication.login function, or the token has not been stored in the command line argument --ident.\n",
      "/home/fortson/manth145/.conda/envs/tf_latest/lib/python3.9/site-packages/SciServer-2.1.0-py3.9.egg/SciServer/SkyServer.py:47: Warning: In Authentication.getToken: Authentication token is not defined: the user did not log in with the Authentication.login function, or the token has not been stored in the command line argument --ident.\n",
      "/home/fortson/manth145/.conda/envs/tf_latest/lib/python3.9/site-packages/SciServer-2.1.0-py3.9.egg/SciServer/SkyServer.py:331: Warning: In Authentication.getToken: Authentication token is not defined: the user did not log in with the Authentication.login function, or the token has not been stored in the command line argument --ident.\n",
      "/home/fortson/manth145/.conda/envs/tf_latest/lib/python3.9/site-packages/SciServer-2.1.0-py3.9.egg/SciServer/SkyServer.py:47: Warning: In Authentication.getToken: Authentication token is not defined: the user did not log in with the Authentication.login function, or the token has not been stored in the command line argument --ident.\n",
      "/home/fortson/manth145/.conda/envs/tf_latest/lib/python3.9/site-packages/SciServer-2.1.0-py3.9.egg/SciServer/SkyServer.py:47: Warning: In Authentication.getToken: Authentication token is not defined: the user did not log in with the Authentication.login function, or the token has not been stored in the command line argument --ident.\n",
      "/home/fortson/manth145/.conda/envs/tf_latest/lib/python3.9/site-packages/SciServer-2.1.0-py3.9.egg/SciServer/SkyServer.py:331: Warning: In Authentication.getToken: Authentication token is not defined: the user did not log in with the Authentication.login function, or the token has not been stored in the command line argument --ident.\n",
      "/home/fortson/manth145/.conda/envs/tf_latest/lib/python3.9/site-packages/SciServer-2.1.0-py3.9.egg/SciServer/SkyServer.py:47: Warning: In Authentication.getToken: Authentication token is not defined: the user did not log in with the Authentication.login function, or the token has not been stored in the command line argument --ident.\n",
      "/home/fortson/manth145/.conda/envs/tf_latest/lib/python3.9/site-packages/SciServer-2.1.0-py3.9.egg/SciServer/SkyServer.py:47: Warning: In Authentication.getToken: Authentication token is not defined: the user did not log in with the Authentication.login function, or the token has not been stored in the command line argument --ident.\n",
      "/home/fortson/manth145/.conda/envs/tf_latest/lib/python3.9/site-packages/SciServer-2.1.0-py3.9.egg/SciServer/SkyServer.py:331: Warning: In Authentication.getToken: Authentication token is not defined: the user did not log in with the Authentication.login function, or the token has not been stored in the command line argument --ident.\n",
      "/home/fortson/manth145/.conda/envs/tf_latest/lib/python3.9/site-packages/SciServer-2.1.0-py3.9.egg/SciServer/SkyServer.py:47: Warning: In Authentication.getToken: Authentication token is not defined: the user did not log in with the Authentication.login function, or the token has not been stored in the command line argument --ident.\n",
      "/home/fortson/manth145/.conda/envs/tf_latest/lib/python3.9/site-packages/SciServer-2.1.0-py3.9.egg/SciServer/SkyServer.py:47: Warning: In Authentication.getToken: Authentication token is not defined: the user did not log in with the Authentication.login function, or the token has not been stored in the command line argument --ident.\n",
      "/home/fortson/manth145/.conda/envs/tf_latest/lib/python3.9/site-packages/SciServer-2.1.0-py3.9.egg/SciServer/SkyServer.py:331: Warning: In Authentication.getToken: Authentication token is not defined: the user did not log in with the Authentication.login function, or the token has not been stored in the command line argument --ident.\n",
      "/home/fortson/manth145/.conda/envs/tf_latest/lib/python3.9/site-packages/SciServer-2.1.0-py3.9.egg/SciServer/SkyServer.py:47: Warning: In Authentication.getToken: Authentication token is not defined: the user did not log in with the Authentication.login function, or the token has not been stored in the command line argument --ident.\n",
      "/home/fortson/manth145/.conda/envs/tf_latest/lib/python3.9/site-packages/SciServer-2.1.0-py3.9.egg/SciServer/SkyServer.py:47: Warning: In Authentication.getToken: Authentication token is not defined: the user did not log in with the Authentication.login function, or the token has not been stored in the command line argument --ident.\n",
      "/home/fortson/manth145/.conda/envs/tf_latest/lib/python3.9/site-packages/SciServer-2.1.0-py3.9.egg/SciServer/SkyServer.py:331: Warning: In Authentication.getToken: Authentication token is not defined: the user did not log in with the Authentication.login function, or the token has not been stored in the command line argument --ident.\n",
      "/home/fortson/manth145/.conda/envs/tf_latest/lib/python3.9/site-packages/SciServer-2.1.0-py3.9.egg/SciServer/SkyServer.py:47: Warning: In Authentication.getToken: Authentication token is not defined: the user did not log in with the Authentication.login function, or the token has not been stored in the command line argument --ident.\n",
      "/home/fortson/manth145/.conda/envs/tf_latest/lib/python3.9/site-packages/SciServer-2.1.0-py3.9.egg/SciServer/SkyServer.py:47: Warning: In Authentication.getToken: Authentication token is not defined: the user did not log in with the Authentication.login function, or the token has not been stored in the command line argument --ident.\n",
      "/home/fortson/manth145/.conda/envs/tf_latest/lib/python3.9/site-packages/SciServer-2.1.0-py3.9.egg/SciServer/SkyServer.py:331: Warning: In Authentication.getToken: Authentication token is not defined: the user did not log in with the Authentication.login function, or the token has not been stored in the command line argument --ident.\n",
      "/home/fortson/manth145/.conda/envs/tf_latest/lib/python3.9/site-packages/SciServer-2.1.0-py3.9.egg/SciServer/SkyServer.py:47: Warning: In Authentication.getToken: Authentication token is not defined: the user did not log in with the Authentication.login function, or the token has not been stored in the command line argument --ident.\n",
      "/home/fortson/manth145/.conda/envs/tf_latest/lib/python3.9/site-packages/SciServer-2.1.0-py3.9.egg/SciServer/SkyServer.py:47: Warning: In Authentication.getToken: Authentication token is not defined: the user did not log in with the Authentication.login function, or the token has not been stored in the command line argument --ident.\n",
      "/home/fortson/manth145/.conda/envs/tf_latest/lib/python3.9/site-packages/SciServer-2.1.0-py3.9.egg/SciServer/SkyServer.py:331: Warning: In Authentication.getToken: Authentication token is not defined: the user did not log in with the Authentication.login function, or the token has not been stored in the command line argument --ident.\n",
      "/home/fortson/manth145/.conda/envs/tf_latest/lib/python3.9/site-packages/SciServer-2.1.0-py3.9.egg/SciServer/SkyServer.py:47: Warning: In Authentication.getToken: Authentication token is not defined: the user did not log in with the Authentication.login function, or the token has not been stored in the command line argument --ident.\n",
      "/home/fortson/manth145/.conda/envs/tf_latest/lib/python3.9/site-packages/SciServer-2.1.0-py3.9.egg/SciServer/SkyServer.py:47: Warning: In Authentication.getToken: Authentication token is not defined: the user did not log in with the Authentication.login function, or the token has not been stored in the command line argument --ident.\n"
     ]
    }
   ],
   "source": [
    "# If the info you are providing is a tuple of (RA, DEC) positions, then use the following. Load a catalog and pass a list of tuples to iteratively \n",
    "# fetch the images.\n",
    "info_type ='ra_dec'\n",
    "\n",
    "'''\n",
    "If you have ObjIDs (unique to each data release), then comment the above and use the following.\n",
    "'''\n",
    "# info = [1237671932283322445]\n",
    "# info_type ='ID'\n",
    "\n",
    "obj_info_search_DR = \"DR16\" # Data release to be used to query the ObjID, PetroR90 information\n",
    "image_data_release = \"DR7\" # Data release from which the Jpeg should be queried.\n",
    "\n",
    "\n",
    "for each_info in data_file: #iterate over the loop\n",
    "\n",
    "    ra, dec = (each_info['RA'], each_info['DEC']) #unpack the RA and DEC info\n",
    "\n",
    "    object_search_data =  SciServer.SkyServer.objectSearch(ra= ra, dec = dec, dataRelease=obj_info_search_DR) # Query the object information\n",
    "    object_id = object_search_data[0]['Rows'][0]['objId'] # grab the ObjID \n",
    "    spec_obj_id = object_search_data[0]['Rows'][0]['specObjId']\n",
    "    if spec_obj_id !='' and object_id!= '':\n",
    "    #     sql_query = \"SELECT p.ra, p.dec, p.ObjID, p.PetroR90_r from PhotoPrimary p WHERE p.objID = %s\"%(object_id) # set up SQL query to retrieve PetroR50_r\n",
    "        spec_query = \"SELECT g.h_alpha_flux from galSpecLine g WHERE g.specObjID = %s\"%(spec_obj_id)\n",
    "        stellar_mass_query = \"SELECT m.logMass, m.metallicity, m.age, m.ssfr from stellarMassFSPSGranWideDust m WHERE m.specObjID = %s\"%(spec_obj_id)\n",
    "    #     queried_data = SciServer.SkyServer.sqlSearch(sql_query, dataRelease=obj_info_search_DR) # queried data\n",
    "        try:\n",
    "            spec_queried_data = SciServer.SkyServer.sqlSearch(spec_query, dataRelease=obj_info_search_DR).to_numpy()[0]\n",
    "        except IndexError:\n",
    "            spec_queried_data = np.array([-99])\n",
    "        \n",
    "        try:\n",
    "            physical_properties = SciServer.SkyServer.sqlSearch(stellar_mass_query, dataRelease=obj_info_search_DR).to_numpy()[0]\n",
    "        except IndexError:\n",
    "            physical_properties = np.array([-99, -99, -99, -99])\n",
    "\n",
    "        queried_table.add_row(np.concatenate([[each_info['ID']], [each_info['RA']], [each_info['DEC']],[object_id], [spec_obj_id], physical_properties, spec_queried_data]))\n",
    "    else:\n",
    "        if object_id == '':\n",
    "            object_id = -99\n",
    "        queried_table.add_row(np.concatenate([[each_info['ID']], [each_info['RA']], [each_info['DEC']],[object_id], [-99], [-99,-99,-99,-99], [-99]]))\n"
   ]
  },
  {
   "cell_type": "code",
   "execution_count": 8,
   "id": "conscious-saturday",
   "metadata": {},
   "outputs": [
    {
     "data": {
      "text/plain": [
       "''"
      ]
     },
     "execution_count": 8,
     "metadata": {},
     "output_type": "execute_result"
    }
   ],
   "source": [
    "object_id"
   ]
  },
  {
   "cell_type": "code",
   "execution_count": 6,
   "id": "considered-timeline",
   "metadata": {},
   "outputs": [],
   "source": [
    "ascii.write(queried_table, '/home/fortson/manth145/data/Misc/LEAM/Leam_Sample_SDSS_Info.csv', format='csv', overwrite=True)"
   ]
  },
  {
   "cell_type": "code",
   "execution_count": 5,
   "id": "material-seventh",
   "metadata": {},
   "outputs": [
    {
     "data": {
      "text/html": [
       "<div><i>Table length=82</i>\n",
       "<table id=\"table140100830293488\" class=\"table-striped table-bordered table-condensed\">\n",
       "<thead><tr><th>ID</th><th>RA</th><th>DEC</th><th>ObjID</th><th>SpecObjID</th><th>logM</th><th>Z</th><th>Age</th><th>sSFR</th><th>halpha_flux</th></tr></thead>\n",
       "<thead><tr><th>str16</th><th>float64</th><th>float64</th><th>int64</th><th>int64</th><th>float64</th><th>float64</th><th>float64</th><th>float64</th><th>float64</th></tr></thead>\n",
       "<tr><td>dm1152+07a</td><td>178.12779166666667</td><td>7.117361111111111</td><td>1237661971182583838</td><td>1825092052086450176</td><td>8.99454263890357</td><td>0.0076999999582767</td><td>1.29934740066528</td><td>-0.282896220684052</td><td>66.54812</td></tr>\n",
       "<tr><td>dm1152+07b</td><td>178.12525</td><td>7.1177777777777775</td><td>1237661971182583837</td><td>1826262757125679104</td><td>8.74649397211624</td><td>0.0120000001043081</td><td>1.29934740066528</td><td>-0.285143464803696</td><td>1625.038</td></tr>\n",
       "<tr><td>dm0035-10a</td><td>8.951291666666666</td><td>-9.209972222222222</td><td>1237652948529512701</td><td>-99</td><td>-99.0</td><td>-99.0</td><td>-99.0</td><td>-99.0</td><td>-99.0</td></tr>\n",
       "<tr><td>dm0035-10b</td><td>8.951166666666667</td><td>-9.205527777777778</td><td>1237652948529512701</td><td>-99</td><td>-99.0</td><td>-99.0</td><td>-99.0</td><td>-99.0</td><td>-99.0</td></tr>\n",
       "<tr><td>dm1059+47a</td><td>164.77733333333333</td><td>47.463</td><td>1237658611979583536</td><td>1085448093815564288</td><td>9.27777067881912</td><td>0.0120000001043081</td><td>2.90695571899414</td><td>-0.699218332767487</td><td>114.7458</td></tr>\n",
       "<tr><td>dm1059+47b</td><td>164.7697083333333</td><td>47.46344444444444</td><td>1237658611979583535</td><td>1084249351213049856</td><td>9.10080710749947</td><td>0.0076999999582767</td><td>1.50865399837494</td><td>-0.521150290966034</td><td>421.3619</td></tr>\n",
       "<tr><td>dm1142+52a</td><td>175.754375</td><td>52.465333333333334</td><td>1237657857145700638</td><td>990933519855282176</td><td>8.85216033225342</td><td>0.0076999999582767</td><td>1.30688512325287</td><td>-0.29055792093277</td><td>32.60795</td></tr>\n",
       "<tr><td>dm1142+52b</td><td>175.739125</td><td>52.465555555555554</td><td>1237657857145634895</td><td>992015439313790976</td><td>9.83284797619942</td><td>0.0149999996647239</td><td>4.49568796157837</td><td>-1.04490375518799</td><td>1206.64</td></tr>\n",
       "<tr><td>dm1403+41a</td><td>210.80729166666666</td><td>41.6095</td><td>1237661872411902003</td><td>1516684803536087040</td><td>9.29331144230432</td><td>0.0120000001043081</td><td>1.29934740066528</td><td>-0.285143464803696</td><td>782.7853</td></tr>\n",
       "<tr><td>dm1403+41b</td><td>210.804</td><td>41.617333333333335</td><td>1237661872411901998</td><td>1515477539752011776</td><td>9.00915421063495</td><td>0.0076999999582767</td><td>1.31547677516937</td><td>-0.299360185861588</td><td>260.67</td></tr>\n",
       "<tr><td>...</td><td>...</td><td>...</td><td>...</td><td>...</td><td>...</td><td>...</td><td>...</td><td>...</td><td>...</td></tr>\n",
       "<tr><td>GPJ0213+0056a</td><td>33.27756405</td><td>0.936802555</td><td>1237660027202699446</td><td>1208203069548947456</td><td>8.23566472923127</td><td>0.0120000001043081</td><td>1.29934740066528</td><td>-0.285143464803696</td><td>3053.005</td></tr>\n",
       "<tr><td>GPJ0213+0056b</td><td>33.27607102</td><td>0.936254787</td><td>1237660027202699451</td><td>1696841448785209344</td><td>8.76489386032717</td><td>0.0076999999582767</td><td>1.31547677516937</td><td>-0.299360185861588</td><td>49.1058</td></tr>\n",
       "<tr><td>IC2058a</td><td>64.476458</td><td>-55.932889</td><td>-99</td><td>-99</td><td>-99.0</td><td>-99.0</td><td>-99.0</td><td>-99.0</td><td>-99.0</td></tr>\n",
       "<tr><td>IC2058b</td><td>64.529833</td><td>-55.930556</td><td>-99</td><td>-99</td><td>-99.0</td><td>-99.0</td><td>-99.0</td><td>-99.0</td><td>-99.0</td></tr>\n",
       "<tr><td>NGC4532a</td><td>188.580542</td><td>6.467694</td><td>1237661974401253483</td><td>-99</td><td>-99.0</td><td>-99.0</td><td>-99.0</td><td>-99.0</td><td>-99.0</td></tr>\n",
       "<tr><td>NGC4532b</td><td>188.68875</td><td>6.300556</td><td>1237661970113429607</td><td>-99</td><td>-99.0</td><td>-99.0</td><td>-99.0</td><td>-99.0</td><td>-99.0</td></tr>\n",
       "<tr><td>NGC3448a</td><td>163.663333</td><td>54.304861</td><td>1237657591928651813</td><td>-99</td><td>-99.0</td><td>-99.0</td><td>-99.0</td><td>-99.0</td><td>-99.0</td></tr>\n",
       "<tr><td>NGC3448b</td><td>163.553152</td><td>54.287224</td><td>1237657591928586361</td><td>1138375560020387840</td><td>5.5818835717105</td><td>0.0120000001043081</td><td>1.29934740066528</td><td>-0.285143464803696</td><td>786.9509</td></tr>\n",
       "<tr><td>UGC9562a</td><td>222.810048</td><td>35.542269</td><td>1237662306192523301</td><td>1557150959522572288</td><td>8.58067388686424</td><td>0.0076999999582767</td><td>1.6991993188858</td><td>-0.806965410709381</td><td>1307.04</td></tr>\n",
       "<tr><td>UGC9562b</td><td>222.735394</td><td>35.571565</td><td>1237662306192457864</td><td>1557149860010944512</td><td>-99.0</td><td>-99.0</td><td>-99.0</td><td>-99.0</td><td>21246.9</td></tr>\n",
       "</table></div>"
      ],
      "text/plain": [
       "<Table length=82>\n",
       "      ID              RA         ...        sSFR        halpha_flux\n",
       "    str16          float64       ...      float64         float64  \n",
       "------------- ------------------ ... ------------------ -----------\n",
       "   dm1152+07a 178.12779166666667 ... -0.282896220684052    66.54812\n",
       "   dm1152+07b          178.12525 ... -0.285143464803696    1625.038\n",
       "   dm0035-10a  8.951291666666666 ...              -99.0       -99.0\n",
       "   dm0035-10b  8.951166666666667 ...              -99.0       -99.0\n",
       "   dm1059+47a 164.77733333333333 ... -0.699218332767487    114.7458\n",
       "   dm1059+47b  164.7697083333333 ... -0.521150290966034    421.3619\n",
       "   dm1142+52a         175.754375 ...  -0.29055792093277    32.60795\n",
       "   dm1142+52b         175.739125 ...  -1.04490375518799     1206.64\n",
       "   dm1403+41a 210.80729166666666 ... -0.285143464803696    782.7853\n",
       "   dm1403+41b            210.804 ... -0.299360185861588      260.67\n",
       "          ...                ... ...                ...         ...\n",
       "GPJ0213+0056a        33.27756405 ... -0.285143464803696    3053.005\n",
       "GPJ0213+0056b        33.27607102 ... -0.299360185861588     49.1058\n",
       "      IC2058a          64.476458 ...              -99.0       -99.0\n",
       "      IC2058b          64.529833 ...              -99.0       -99.0\n",
       "     NGC4532a         188.580542 ...              -99.0       -99.0\n",
       "     NGC4532b          188.68875 ...              -99.0       -99.0\n",
       "     NGC3448a         163.663333 ...              -99.0       -99.0\n",
       "     NGC3448b         163.553152 ... -0.285143464803696    786.9509\n",
       "     UGC9562a         222.810048 ... -0.806965410709381     1307.04\n",
       "     UGC9562b         222.735394 ...              -99.0     21246.9"
      ]
     },
     "execution_count": 5,
     "metadata": {},
     "output_type": "execute_result"
    }
   ],
   "source": [
    "queried_table"
   ]
  },
  {
   "cell_type": "code",
   "execution_count": 8,
   "id": "restricted-genre",
   "metadata": {},
   "outputs": [
    {
     "data": {
      "text/plain": [
       "{'objId': '1237652948529512701',\n",
       " 'specObjId': '',\n",
       " 'apid': '',\n",
       " 'id': 1237652948529512701,\n",
       " 'specId': None,\n",
       " 'name': ''}"
      ]
     },
     "execution_count": 8,
     "metadata": {},
     "output_type": "execute_result"
    }
   ],
   "source": [
    "object_search_data[0]['Rows'][0]"
   ]
  },
  {
   "cell_type": "code",
   "execution_count": 20,
   "id": "united-award",
   "metadata": {},
   "outputs": [
    {
     "data": {
      "text/plain": [
       "array([[66.54812 ,  2.522923]])"
      ]
     },
     "execution_count": 20,
     "metadata": {},
     "output_type": "execute_result"
    }
   ],
   "source": [
    "np.array(spec_queried_data)"
   ]
  },
  {
   "cell_type": "code",
   "execution_count": 22,
   "id": "wrapped-quest",
   "metadata": {},
   "outputs": [
    {
     "data": {
      "text/plain": [
       "66.54812"
      ]
     },
     "execution_count": 22,
     "metadata": {},
     "output_type": "execute_result"
    }
   ],
   "source": [
    "spec_queried_data['h_alpha_flux'][0]"
   ]
  },
  {
   "cell_type": "code",
   "execution_count": 6,
   "id": "attended-delhi",
   "metadata": {},
   "outputs": [
    {
     "ename": "AttributeError",
     "evalue": "'numpy.ndarray' object has no attribute 'to_numpy'",
     "output_type": "error",
     "traceback": [
      "\u001b[0;31m---------------------------------------------------------------------------\u001b[0m",
      "\u001b[0;31mAttributeError\u001b[0m                            Traceback (most recent call last)",
      "Input \u001b[0;32mIn [6]\u001b[0m, in \u001b[0;36m<cell line: 1>\u001b[0;34m()\u001b[0m\n\u001b[0;32m----> 1\u001b[0m \u001b[43mphysical_properties\u001b[49m\u001b[38;5;241;43m.\u001b[39;49m\u001b[43mto_numpy\u001b[49m()[\u001b[38;5;241m0\u001b[39m]\n",
      "\u001b[0;31mAttributeError\u001b[0m: 'numpy.ndarray' object has no attribute 'to_numpy'"
     ]
    }
   ],
   "source": [
    "physical_properties.to_numpy()[0]"
   ]
  },
  {
   "cell_type": "code",
   "execution_count": 27,
   "id": "cooked-marathon",
   "metadata": {},
   "outputs": [
    {
     "data": {
      "text/html": [
       "<div>\n",
       "<style scoped>\n",
       "    .dataframe tbody tr th:only-of-type {\n",
       "        vertical-align: middle;\n",
       "    }\n",
       "\n",
       "    .dataframe tbody tr th {\n",
       "        vertical-align: top;\n",
       "    }\n",
       "\n",
       "    .dataframe thead th {\n",
       "        text-align: right;\n",
       "    }\n",
       "</style>\n",
       "<table border=\"1\" class=\"dataframe\">\n",
       "  <thead>\n",
       "    <tr style=\"text-align: right;\">\n",
       "      <th></th>\n",
       "      <th>logMass</th>\n",
       "      <th>metallicity</th>\n",
       "      <th>age</th>\n",
       "      <th>ssfr</th>\n",
       "    </tr>\n",
       "  </thead>\n",
       "  <tbody>\n",
       "    <tr>\n",
       "      <th>0</th>\n",
       "      <td>9.481586</td>\n",
       "      <td>0.0077</td>\n",
       "      <td>6.58356</td>\n",
       "      <td>-1.096489</td>\n",
       "    </tr>\n",
       "  </tbody>\n",
       "</table>\n",
       "</div>"
      ],
      "text/plain": [
       "    logMass  metallicity      age      ssfr\n",
       "0  9.481586       0.0077  6.58356 -1.096489"
      ]
     },
     "execution_count": 27,
     "metadata": {},
     "output_type": "execute_result"
    }
   ],
   "source": [
    "physical_properties"
   ]
  },
  {
   "cell_type": "code",
   "execution_count": 17,
   "id": "utility-immunology",
   "metadata": {},
   "outputs": [
    {
     "data": {
      "text/plain": [
       "array([66.54812])"
      ]
     },
     "execution_count": 17,
     "metadata": {},
     "output_type": "execute_result"
    }
   ],
   "source": [
    "spec_queried_data"
   ]
  },
  {
   "cell_type": "code",
   "execution_count": 16,
   "id": "empty-palestine",
   "metadata": {},
   "outputs": [
    {
     "data": {
      "text/plain": [
       "array([ 9.48158557e+00,  7.69999996e-03,  6.58355951e+00, -1.09648907e+00])"
      ]
     },
     "execution_count": 16,
     "metadata": {},
     "output_type": "execute_result"
    }
   ],
   "source": [
    "physical_properties"
   ]
  },
  {
   "cell_type": "code",
   "execution_count": 25,
   "id": "subtle-result",
   "metadata": {},
   "outputs": [
    {
     "data": {
      "text/plain": [
       "array(['dm1152+07a', '178.12779166666667', '7.117361111111111',\n",
       "       '1237661971182583838', '1825092052086450176', '9.48158557056236',\n",
       "       '0.0076999999582767', '6.58355951309204', '-1.09648907184601',\n",
       "       '66.54812'], dtype='<U32')"
      ]
     },
     "execution_count": 25,
     "metadata": {},
     "output_type": "execute_result"
    }
   ],
   "source": [
    "np.concatenate([[each_info['ID']], [each_info['RA']], [each_info['DEC']],[object_id], [spec_obj_id], physical_properties, spec_queried_data])"
   ]
  },
  {
   "cell_type": "code",
   "execution_count": 19,
   "id": "eleven-berkeley",
   "metadata": {},
   "outputs": [
    {
     "data": {
      "text/plain": [
       "array([ 9.48158557e+00,  7.69999996e-03,  6.58355951e+00, -1.09648907e+00])"
      ]
     },
     "execution_count": 19,
     "metadata": {},
     "output_type": "execute_result"
    }
   ],
   "source": [
    "physical_properties.ravel()"
   ]
  },
  {
   "cell_type": "code",
   "execution_count": 27,
   "id": "smart-calendar",
   "metadata": {},
   "outputs": [
    {
     "data": {
      "text/html": [
       "<div><i>Table length=1</i>\n",
       "<table id=\"table140335552790640\" class=\"table-striped table-bordered table-condensed\">\n",
       "<thead><tr><th>ID</th><th>RA</th><th>DEC</th><th>ObjID</th><th>SpecObjID</th><th>logM</th><th>Z</th><th>Age</th><th>sSFR</th><th>halpha_flux</th></tr></thead>\n",
       "<thead><tr><th>str10</th><th>float64</th><th>float64</th><th>int64</th><th>int64</th><th>float64</th><th>float64</th><th>float64</th><th>float64</th><th>float64</th></tr></thead>\n",
       "<tr><td>dm1152+07a</td><td>178.12779166666667</td><td>7.117361111111111</td><td>1237661971182583838</td><td>1825092052086450176</td><td>9.48158557056236</td><td>0.0076999999582767</td><td>6.58355951309204</td><td>-1.09648907184601</td><td>66.54812</td></tr>\n",
       "</table></div>"
      ],
      "text/plain": [
       "<Table length=1>\n",
       "    ID             RA         ...        sSFR       halpha_flux\n",
       "  str10         float64       ...      float64        float64  \n",
       "---------- ------------------ ... ----------------- -----------\n",
       "dm1152+07a 178.12779166666667 ... -1.09648907184601    66.54812"
      ]
     },
     "execution_count": 27,
     "metadata": {},
     "output_type": "execute_result"
    }
   ],
   "source": [
    "queried_table"
   ]
  },
  {
   "cell_type": "code",
   "execution_count": null,
   "id": "short-fossil",
   "metadata": {},
   "outputs": [],
   "source": []
  }
 ],
 "metadata": {
  "kernelspec": {
   "display_name": "tf_latest",
   "language": "python",
   "name": "tf_latest"
  },
  "language_info": {
   "codemirror_mode": {
    "name": "ipython",
    "version": 3
   },
   "file_extension": ".py",
   "mimetype": "text/x-python",
   "name": "python",
   "nbconvert_exporter": "python",
   "pygments_lexer": "ipython3",
   "version": "3.9.12"
  }
 },
 "nbformat": 4,
 "nbformat_minor": 5
}
